{
 "cells": [
  {
   "cell_type": "markdown",
   "id": "e8a3cf41",
   "metadata": {},
   "source": [
    "# Part 1\n"
   ]
  },
  {
   "cell_type": "markdown",
   "id": "0fa64608",
   "metadata": {},
   "source": [
    "# Ingest the TSV file into a DataFrame"
   ]
  },
  {
   "cell_type": "code",
   "execution_count": 14,
   "id": "edeb2f66",
   "metadata": {},
   "outputs": [],
   "source": [
    "# Import the necessary libraries\n",
    "import pandas as pd"
   ]
  },
  {
   "cell_type": "code",
   "execution_count": 2,
   "id": "d1768fe8",
   "metadata": {},
   "outputs": [],
   "source": [
    "# Load the tsv DATASET\n",
    "df = pd.read_csv('correct_twitter_201904.tsv', sep='\\t')"
   ]
  },
  {
   "cell_type": "code",
   "execution_count": 3,
   "id": "cd92a81a",
   "metadata": {},
   "outputs": [
    {
     "data": {
      "text/html": [
       "<div>\n",
       "<style scoped>\n",
       "    .dataframe tbody tr th:only-of-type {\n",
       "        vertical-align: middle;\n",
       "    }\n",
       "\n",
       "    .dataframe tbody tr th {\n",
       "        vertical-align: top;\n",
       "    }\n",
       "\n",
       "    .dataframe thead th {\n",
       "        text-align: right;\n",
       "    }\n",
       "</style>\n",
       "<table border=\"1\" class=\"dataframe\">\n",
       "  <thead>\n",
       "    <tr style=\"text-align: right;\">\n",
       "      <th></th>\n",
       "      <th>id</th>\n",
       "      <th>event</th>\n",
       "      <th>ts1</th>\n",
       "      <th>ts2</th>\n",
       "      <th>from_stream</th>\n",
       "      <th>directly_from_stream</th>\n",
       "      <th>from_search</th>\n",
       "      <th>directly_from_search</th>\n",
       "      <th>from_quote_search</th>\n",
       "      <th>directly_from_quote_search</th>\n",
       "      <th>...</th>\n",
       "      <th>retweeted</th>\n",
       "      <th>retweeted_author_id</th>\n",
       "      <th>retweeted_handle</th>\n",
       "      <th>retweeted_follower_count</th>\n",
       "      <th>mentioned_author_ids</th>\n",
       "      <th>mentioned_handles</th>\n",
       "      <th>hashtags</th>\n",
       "      <th>urls</th>\n",
       "      <th>media_keys</th>\n",
       "      <th>place_id</th>\n",
       "    </tr>\n",
       "  </thead>\n",
       "  <tbody>\n",
       "    <tr>\n",
       "      <th>0</th>\n",
       "      <td>1131594960443199488</td>\n",
       "      <td>britney_201904</td>\n",
       "      <td>2022-02-28 09:34:44.627023-05:00</td>\n",
       "      <td>2022-02-28 09:34:44.627023-05:00</td>\n",
       "      <td>True</td>\n",
       "      <td>True</td>\n",
       "      <td>False</td>\n",
       "      <td>False</td>\n",
       "      <td>False</td>\n",
       "      <td>False</td>\n",
       "      <td>...</td>\n",
       "      <td>1.130918e+18</td>\n",
       "      <td>3.042894e+09</td>\n",
       "      <td>Iesbwian</td>\n",
       "      <td>22760.0</td>\n",
       "      <td>NaN</td>\n",
       "      <td>NaN</td>\n",
       "      <td>NaN</td>\n",
       "      <td>NaN</td>\n",
       "      <td>NaN</td>\n",
       "      <td>NaN</td>\n",
       "    </tr>\n",
       "    <tr>\n",
       "      <th>1</th>\n",
       "      <td>1131594976750653440</td>\n",
       "      <td>britney_201904</td>\n",
       "      <td>2022-02-28 09:34:44.626921-05:00</td>\n",
       "      <td>2022-02-28 09:34:44.626921-05:00</td>\n",
       "      <td>True</td>\n",
       "      <td>True</td>\n",
       "      <td>False</td>\n",
       "      <td>False</td>\n",
       "      <td>False</td>\n",
       "      <td>False</td>\n",
       "      <td>...</td>\n",
       "      <td>NaN</td>\n",
       "      <td>NaN</td>\n",
       "      <td>NaN</td>\n",
       "      <td>NaN</td>\n",
       "      <td>NaN</td>\n",
       "      <td>NaN</td>\n",
       "      <td>NaN</td>\n",
       "      <td>NaN</td>\n",
       "      <td>NaN</td>\n",
       "      <td>NaN</td>\n",
       "    </tr>\n",
       "    <tr>\n",
       "      <th>2</th>\n",
       "      <td>1131589737955942405</td>\n",
       "      <td>britney_201904</td>\n",
       "      <td>2022-02-28 09:34:44.634058-05:00</td>\n",
       "      <td>2022-02-28 09:34:44.634058-05:00</td>\n",
       "      <td>True</td>\n",
       "      <td>True</td>\n",
       "      <td>False</td>\n",
       "      <td>False</td>\n",
       "      <td>False</td>\n",
       "      <td>False</td>\n",
       "      <td>...</td>\n",
       "      <td>NaN</td>\n",
       "      <td>NaN</td>\n",
       "      <td>NaN</td>\n",
       "      <td>NaN</td>\n",
       "      <td>NaN</td>\n",
       "      <td>NaN</td>\n",
       "      <td>NaN</td>\n",
       "      <td>NaN</td>\n",
       "      <td>NaN</td>\n",
       "      <td>NaN</td>\n",
       "    </tr>\n",
       "    <tr>\n",
       "      <th>3</th>\n",
       "      <td>1131594909469892610</td>\n",
       "      <td>britney_201904</td>\n",
       "      <td>2022-02-28 09:34:44.627125-05:00</td>\n",
       "      <td>2022-02-28 09:34:44.627125-05:00</td>\n",
       "      <td>True</td>\n",
       "      <td>True</td>\n",
       "      <td>False</td>\n",
       "      <td>False</td>\n",
       "      <td>False</td>\n",
       "      <td>False</td>\n",
       "      <td>...</td>\n",
       "      <td>1.130918e+18</td>\n",
       "      <td>3.042894e+09</td>\n",
       "      <td>Iesbwian</td>\n",
       "      <td>22760.0</td>\n",
       "      <td>NaN</td>\n",
       "      <td>NaN</td>\n",
       "      <td>NaN</td>\n",
       "      <td>NaN</td>\n",
       "      <td>NaN</td>\n",
       "      <td>NaN</td>\n",
       "    </tr>\n",
       "    <tr>\n",
       "      <th>4</th>\n",
       "      <td>1131594812694511617</td>\n",
       "      <td>britney_201904</td>\n",
       "      <td>2022-02-28 09:34:44.627227-05:00</td>\n",
       "      <td>2022-02-28 09:34:44.627227-05:00</td>\n",
       "      <td>True</td>\n",
       "      <td>True</td>\n",
       "      <td>False</td>\n",
       "      <td>False</td>\n",
       "      <td>False</td>\n",
       "      <td>False</td>\n",
       "      <td>...</td>\n",
       "      <td>1.130918e+18</td>\n",
       "      <td>3.042894e+09</td>\n",
       "      <td>Iesbwian</td>\n",
       "      <td>22760.0</td>\n",
       "      <td>NaN</td>\n",
       "      <td>NaN</td>\n",
       "      <td>NaN</td>\n",
       "      <td>NaN</td>\n",
       "      <td>NaN</td>\n",
       "      <td>NaN</td>\n",
       "    </tr>\n",
       "  </tbody>\n",
       "</table>\n",
       "<p>5 rows × 46 columns</p>\n",
       "</div>"
      ],
      "text/plain": [
       "                    id           event                               ts1  \\\n",
       "0  1131594960443199488  britney_201904  2022-02-28 09:34:44.627023-05:00   \n",
       "1  1131594976750653440  britney_201904  2022-02-28 09:34:44.626921-05:00   \n",
       "2  1131589737955942405  britney_201904  2022-02-28 09:34:44.634058-05:00   \n",
       "3  1131594909469892610  britney_201904  2022-02-28 09:34:44.627125-05:00   \n",
       "4  1131594812694511617  britney_201904  2022-02-28 09:34:44.627227-05:00   \n",
       "\n",
       "                                ts2  from_stream  directly_from_stream  \\\n",
       "0  2022-02-28 09:34:44.627023-05:00         True                  True   \n",
       "1  2022-02-28 09:34:44.626921-05:00         True                  True   \n",
       "2  2022-02-28 09:34:44.634058-05:00         True                  True   \n",
       "3  2022-02-28 09:34:44.627125-05:00         True                  True   \n",
       "4  2022-02-28 09:34:44.627227-05:00         True                  True   \n",
       "\n",
       "   from_search  directly_from_search  from_quote_search  \\\n",
       "0        False                 False              False   \n",
       "1        False                 False              False   \n",
       "2        False                 False              False   \n",
       "3        False                 False              False   \n",
       "4        False                 False              False   \n",
       "\n",
       "   directly_from_quote_search  ...     retweeted  retweeted_author_id  \\\n",
       "0                       False  ...  1.130918e+18         3.042894e+09   \n",
       "1                       False  ...           NaN                  NaN   \n",
       "2                       False  ...           NaN                  NaN   \n",
       "3                       False  ...  1.130918e+18         3.042894e+09   \n",
       "4                       False  ...  1.130918e+18         3.042894e+09   \n",
       "\n",
       "   retweeted_handle  retweeted_follower_count mentioned_author_ids  \\\n",
       "0          Iesbwian                   22760.0                  NaN   \n",
       "1               NaN                       NaN                  NaN   \n",
       "2               NaN                       NaN                  NaN   \n",
       "3          Iesbwian                   22760.0                  NaN   \n",
       "4          Iesbwian                   22760.0                  NaN   \n",
       "\n",
       "  mentioned_handles  hashtags urls media_keys  place_id  \n",
       "0               NaN       NaN  NaN        NaN       NaN  \n",
       "1               NaN       NaN  NaN        NaN       NaN  \n",
       "2               NaN       NaN  NaN        NaN       NaN  \n",
       "3               NaN       NaN  NaN        NaN       NaN  \n",
       "4               NaN       NaN  NaN        NaN       NaN  \n",
       "\n",
       "[5 rows x 46 columns]"
      ]
     },
     "execution_count": 3,
     "metadata": {},
     "output_type": "execute_result"
    }
   ],
   "source": [
    "df.head()"
   ]
  },
  {
   "cell_type": "code",
   "execution_count": 4,
   "id": "0fcea0f2",
   "metadata": {},
   "outputs": [
    {
     "name": "stdout",
     "output_type": "stream",
     "text": [
      "<class 'pandas.core.frame.DataFrame'>\n",
      "RangeIndex: 88037 entries, 0 to 88036\n",
      "Data columns (total 46 columns):\n",
      " #   Column                         Non-Null Count  Dtype  \n",
      "---  ------                         --------------  -----  \n",
      " 0   id                             88037 non-null  int64  \n",
      " 1   event                          88037 non-null  object \n",
      " 2   ts1                            88037 non-null  object \n",
      " 3    ts2                           88037 non-null  object \n",
      " 4   from_stream                    88037 non-null  bool   \n",
      " 5   directly_from_stream           88037 non-null  bool   \n",
      " 6   from_search                    88037 non-null  bool   \n",
      " 7   directly_from_search           88037 non-null  bool   \n",
      " 8   from_quote_search              88037 non-null  bool   \n",
      " 9   directly_from_quote_search     88037 non-null  bool   \n",
      " 10  from_convo_search              88037 non-null  bool   \n",
      " 11  directly_from_convo_search     88037 non-null  bool   \n",
      " 12  from_timeline_search           88037 non-null  bool   \n",
      " 13  directly_from_timeline_search  88037 non-null  bool   \n",
      " 14  text                           88037 non-null  object \n",
      " 15  lang                           88037 non-null  object \n",
      " 16  author_id                      88037 non-null  int64  \n",
      " 17  author_handle                  88037 non-null  object \n",
      " 18  created_at                     88037 non-null  object \n",
      " 19  conversation_id                88037 non-null  int64  \n",
      " 20  possibly_sensitive             88037 non-null  bool   \n",
      " 21  reply_settings                 88037 non-null  object \n",
      " 22  source                         88037 non-null  object \n",
      " 23  author_follower_count          88037 non-null  int64  \n",
      " 24  retweet_count                  88037 non-null  int64  \n",
      " 25  reply_count                    88037 non-null  int64  \n",
      " 26  like_count                     88037 non-null  int64  \n",
      " 27  quote_count                    88037 non-null  int64  \n",
      " 28  replied_to                     6675 non-null   float64\n",
      " 29  replied_to_author_id           3850 non-null   float64\n",
      " 30  replied_to_handle              3684 non-null   object \n",
      " 31  replied_to_follower_count      3850 non-null   float64\n",
      " 32  quoted                         2052 non-null   float64\n",
      " 33  quoted_author_id               1776 non-null   float64\n",
      " 34  quoted_handle                  1629 non-null   object \n",
      " 35  quoted_follower_count          1776 non-null   float64\n",
      " 36  retweeted                      51529 non-null  float64\n",
      " 37  retweeted_author_id            51529 non-null  float64\n",
      " 38  retweeted_handle               51529 non-null  object \n",
      " 39  retweeted_follower_count       51529 non-null  float64\n",
      " 40  mentioned_author_ids           0 non-null      float64\n",
      " 41  mentioned_handles              0 non-null      float64\n",
      " 42  hashtags                       12162 non-null  object \n",
      " 43  urls                           41641 non-null  object \n",
      " 44  media_keys                     16512 non-null  object \n",
      " 45  place_id                       1021 non-null   object \n",
      "dtypes: bool(11), float64(11), int64(8), object(16)\n",
      "memory usage: 24.4+ MB\n"
     ]
    }
   ],
   "source": [
    "df.info()"
   ]
  },
  {
   "cell_type": "markdown",
   "id": "f0d65ca3",
   "metadata": {},
   "source": [
    "# Part 2\n"
   ]
  },
  {
   "cell_type": "markdown",
   "id": "b0373a6d",
   "metadata": {},
   "source": [
    "# Now the data is ready for querying"
   ]
  },
  {
   "cell_type": "code",
   "execution_count": 5,
   "id": "231b535a",
   "metadata": {},
   "outputs": [],
   "source": [
    "# Convert 'created_at' column to date time format with UTC timezone\n",
    "df['created_at'] = pd.to_datetime(df['created_at'], utc=True)"
   ]
  },
  {
   "cell_type": "markdown",
   "id": "5ecd8f61",
   "metadata": {},
   "source": [
    "1.How many tweets were posted containing the term on each day?\n"
   ]
  },
  {
   "cell_type": "code",
   "execution_count": 7,
   "id": "f28bc0cd",
   "metadata": {},
   "outputs": [],
   "source": [
    "# Taking Britney Spears as Term\n",
    "term = \"Britney Spears\"  \n",
    "\n",
    "# Filter tweets containing the term\n",
    "filtered_tweets = df[df['text'].str.contains(term, case=False, na=False)]"
   ]
  },
  {
   "cell_type": "code",
   "execution_count": 8,
   "id": "ae9003b1",
   "metadata": {},
   "outputs": [
    {
     "name": "stdout",
     "output_type": "stream",
     "text": [
      "created_at\n",
      "2019-05-15    5626\n",
      "2019-05-16    5473\n",
      "2019-05-13    4078\n",
      "2019-05-19    3592\n",
      "2019-05-10    3316\n",
      "              ... \n",
      "2019-04-06       1\n",
      "2019-03-10       1\n",
      "2019-03-04       1\n",
      "2019-03-07       1\n",
      "2019-03-24       1\n",
      "Name: count, Length: 77, dtype: int64\n"
     ]
    }
   ],
   "source": [
    "# Count tweets per day\n",
    "tweets_per_day = filtered_tweets['created_at'].dt.date.value_counts()\n",
    "print(tweets_per_day)"
   ]
  },
  {
   "cell_type": "markdown",
   "id": "484072f4",
   "metadata": {},
   "source": [
    "2.How many unique users posted a tweet containing the term?"
   ]
  },
  {
   "cell_type": "code",
   "execution_count": 9,
   "id": "0801f01e",
   "metadata": {},
   "outputs": [
    {
     "name": "stdout",
     "output_type": "stream",
     "text": [
      "72849\n"
     ]
    }
   ],
   "source": [
    "# Count unique users by 'author_id'\n",
    "unique_users = filtered_tweets['id'].nunique()\n",
    "print(unique_users)\n"
   ]
  },
  {
   "cell_type": "markdown",
   "id": "15cd63d3",
   "metadata": {},
   "source": [
    "3.How many likes did tweets containing the term get, on average?"
   ]
  },
  {
   "cell_type": "code",
   "execution_count": 10,
   "id": "8054e3c1",
   "metadata": {},
   "outputs": [
    {
     "name": "stdout",
     "output_type": "stream",
     "text": [
      "6.023088855028895\n"
     ]
    }
   ],
   "source": [
    "# Calculate the average likes\n",
    "average_likes = filtered_tweets['like_count'].mean()\n",
    "print(average_likes)\n"
   ]
  },
  {
   "cell_type": "markdown",
   "id": "af4cf790",
   "metadata": {},
   "source": [
    "4.Where (in terms of place IDs) did the tweets come from?\n"
   ]
  },
  {
   "cell_type": "code",
   "execution_count": 11,
   "id": "2767ff26",
   "metadata": {},
   "outputs": [
    {
     "name": "stdout",
     "output_type": "stream",
     "text": [
      "['1b676cd4b8a8684a' 'c13938f4ec2dd011' 'e4a0d228eb6be76b'\n",
      " '44c12398792e903e' '0570f015c264cbd9' '507a015cba6ef518'\n",
      " '18d40be3c87f57f6' '3b77caf94bfc81fe' '55b4f9e5c516e0b6'\n",
      " '7142eb97ae21e839' '3b98b02fba3f9753' 'd374fb61a20fb74f'\n",
      " '46634c3ba5a46fdb' 'bfc35dcc7e63252a' 'ab2f2fac83aa388d'\n",
      " '1f4df2b4746ddea7' '8fa6d7a33b83ef26' 'a7cdc3f10586dc66'\n",
      " '01566b25bbe7a6d3' '092d7c3d0cba2fc2' '7ae9e2f2ff7a87cd'\n",
      " '011add077f4d2da3' 'a6c257c61f294ec1' '2fd93ef04260afec'\n",
      " 'c8ad59201dea8828' '56d80c09c52e04cd' 'd970e7fd69eaf4ec'\n",
      " '1d9a5370a355ab0c' '26bd1020a92a166b' '5f9b31138e7fed15'\n",
      " '06b9691f34c91d1c' 'c1430b24da8e9229' '09f6a7707f18e0b1'\n",
      " '888482aa70a3bc61' '00ed6f0947c230f4' '1cf657005480e70e'\n",
      " '97bcdfca1a2dca59' 'c25d095079dd819b' '329a8a8edd639e7d'\n",
      " '0ce4c27ce26030aa' 'c3f37afa9efcf94b' 'de599025180e2ee7'\n",
      " 'd16815010421ff73' '56c45474148ca4da' '1d834adff5d584df'\n",
      " '53504716d445dcad' 'ec3b8b62828d8f6a' '2e623eac9401669f'\n",
      " '315665e798d1e209' '7dde0febc9ef245b' '3bc1b6cfd27ef7f6'\n",
      " '3eb2c704fe8a50cb' 'ccf29de542357ef1' '00ab941b685334e3'\n",
      " '13d0994d4df436f8' '68e019afec7d0ba5' '002e24c6736f069d'\n",
      " 'afdda35f375f55ae' 'a1839e9c3b5abff6' 'e1e35d357ceefa52'\n",
      " 'e0060cda70f5f341' '006523c50dfe9086' '0003557c7b244fd3'\n",
      " '38d5974e82ed1a6c' '0113afc024d5e0bc' '1c69a67ad480e1b1'\n",
      " '91eb113282d003a1' '77def60fb9166b95' '56c9f474a934e9fe'\n",
      " 'a592bd6ceb1319f7' '83e9c5185856cabc' '589845097c6ce336'\n",
      " 'cad757363c1a85df' 'ab42d0293a346841' '0bc912edeeadc71a'\n",
      " '639ba0c01b9a6fcc' '01eef0b11a025fde' '0c4f58af36a910a6'\n",
      " '01a9a39529b27f36' '8e9665cec9370f0f' '23d81de6fe7594cb'\n",
      " 'df7fd3a3b9eff7ee' 'b230af2256484995' '404819eb1c5580d7'\n",
      " '00f8c733400e497a' '894146230dd1d42d' '5574b7b200b9c750'\n",
      " '01864a8a64df9dc4' '300bcc6e23a88361' 'e21c8e4914eef2b3'\n",
      " '1ba6cc7d83e56acd' '341fb7f33dd7ea0c' '4ec71fc3f2579572'\n",
      " 'b71fac2ee9792cbe' '5e1e86aa19ed4db1' '457b4814b4240d87'\n",
      " '07d9f6cca6c86001' 'b49b3053b5c25bf5' '0c7debd2297fcc6a'\n",
      " 'd56c5babcffde8ef' '015ac8fc158ff38e' '3df4f427b5a60fea'\n",
      " '3b8667e69cb2797f' '07d9db0d7fc83001' '011edd780200b886'\n",
      " '0774aa7280ccd221' '099b77381f560000' '19d41c6eff11e9d6'\n",
      " '01f9c9fd7bb1aa6b' '009c8eac35ebae31' 'b528fc024fb18378'\n",
      " '5d231ed8656fcf5a' '01153d1b33e1641b' '609d1bbc180f1434'\n",
      " '00c001194c5e8764' '791e00bcadc4615f' '56909099a1d44057'\n",
      " 'd6539f049c4d05e8' 'e898916fab5ef970' '85ec017be8926e26'\n",
      " '65d3d595e8ee2942' '60160252aeb7e3e5' '778af41ffb719450'\n",
      " '8b9ec16fdc0d7e55' '6fb5fca39609ee86' '1a27537478dd8e38'\n",
      " '67b98f17fdcf20be' '35780b08c563d8ab' 'dd9c503d6c35364b'\n",
      " 'edd2aa964fa61ec9' '18810aa5b43e76c7' '01b6248340098bad'\n",
      " '77af3e46c7a19d54' '5c62ffb0f0f3479d' '011a05612b6a331c'\n",
      " '811363309f3778ba' '714789cf3b7a50d0' '01c4d52d45567820'\n",
      " 'fee8047a46fbdfc8' '0106b095642cf57f' '004ec16c62325149'\n",
      " '0e587c59401d0a27' 'b1a5f3bbff698d24' 'c6637a26ad26239d'\n",
      " 'f95304ef80fecc3f' 'ad760d32a6a31ea5' '649e80e2de8e64ad'\n",
      " '7a789fc97175b3f1' 'e564d30dc173d2a8' '043383f8b2b79918'\n",
      " '2a9e190efe38237e' '97b70992556c6354' '01fbe706f872cb32'\n",
      " 'c7ef5f3368b68777' '00ca4cd1517ddd94' '4cc70ca050b304d2'\n",
      " '6e5c7d7cfdf8a6b7' '8bc4eeacf63235f9' '48ef19debe0f30ca'\n",
      " '407b2c699286aab5' '1a7a70d4a28e96a1' '1927193c57f35d51'\n",
      " 'b075d78174642ce2' '695b360b8171c433' '659395aaea6aa724'\n",
      " 'ebdc4aa39ecb7cb1' '00cc0d5640394308' 'd9d978b087a92583'\n",
      " '1ef1183ed7056dc1' '960993b9cfdffda9' '67764b91eec214f2'\n",
      " '00ae272d6d0d28fe' 'e9ea1f1600a66684' 'faee3fa23549dd70'\n",
      " '95dddb02df492768' '2a93711775303f90' '0054699e35b7cd73'\n",
      " 'd180df6c736539e4' '00d511d335cd9fb6' '7b716f8aee20c311'\n",
      " '9519f2018bb6585b' '44225138caa10f19' '5635c19c2b5078d1'\n",
      " '9531d4e3bbafc09d' 'e41d169b6d84efb4' '013996094b0e6ef7'\n",
      " 'b0b79caecef59fb5' 'ac88a4f17a51c7fc' '3f81e4ab7f76195f'\n",
      " '0112bdb03ace5ee9' '5c2b5e46ab891f07' '6e7f325c295c0e98'\n",
      " '4e5d1e9bc3c752b2' '5e02a0f0d91c76d2' 'd6bbfe2356aebaab'\n",
      " '5de8cffc145c486b' '0bfd967dde33691b' 'dd3b100831dd1763'\n",
      " '6057f1e35bcc6c20' '4ec01c9dbc693497' '017a4afa29d71c65'\n",
      " '00f751614d8ce37b' 'fac230fa9cf16fd6' '6417871953fa5e86'\n",
      " '56e525d58114f761' '1656ac6e0eedbd12' '1e33806845a45574'\n",
      " '08be9e4ebe3d037d' '47649d6556b1f570' '01df4e72e928e4df'\n",
      " '315b740b108481f6' 'b7cf657dd68715dd' '5f73d127c7ccf9d9'\n",
      " '46c1b1ab24d7e11a' 'd838baf51d1c629d' '583bd538eb3129d1'\n",
      " '5a23da841b5691c7' 'f77b0bf942a40070' '61f1d75eb5064808'\n",
      " '7d62cffe6f98f349' 'e43fd5ffd4b3a689' '58d9017bdf25fa8b'\n",
      " 'c500c6f8494a90ac' '1427f884feb4cb70' '7d893ca2441b0c21'\n",
      " 'b077585758242faa' 'fb4e19c906cdaa73' 'ca8520ce19e71fd7'\n",
      " '460c5314e8a33c64' '04cb31bae3b3af93' '92220986b9dfd67d'\n",
      " 'c589d9d6ed38927c' '3f7a925ec706ea48' 'fbd6d2f5a4e4a15e'\n",
      " 'e9143a85705b4d40' '20b0cabb7578c4c9' '04bd524a682efd1f'\n",
      " 'dd8187a700611fbe' '9f2cf908e8d73cd6' '6a2237dc21813089'\n",
      " 'a0b47ebc53eb0e63' '6b5962dc5bd54cc5' '14441682ff5a9fa3'\n",
      " 'fe6267019d9aab1c' '00caf39d503a84e9' '01d0cd182297354e'\n",
      " '01e74c422dab6107' '6890a27317bf4a9b' '05563c2694a84c03'\n",
      " '36775d842cbec509' '737fcb9daae404ac' '0052cdde03f2eadb'\n",
      " 'd04cf2a772b88bba' 'eb5c40f3d165a855' 'a612c69b44b2e5da'\n",
      " '35e900f47c7ec2f0' '7b93be1d864cedbb' '0073b76548e5984f'\n",
      " '5c8c81a4fef94364' 'b046074b1030a44d' '8a79915b095901ec'\n",
      " '0562e9e53cddf6ec' '47341c54fe1a873b' '4c8e28554110ebcf'\n",
      " 'ccdcfef06fb8aed5' '47bf5243296fa7e3' '1795f2e3639cab31'\n",
      " 'fd25378f7b90960b' '01e8a41a4dbb4991' '94965b2c45386f87'\n",
      " '017f24412e7d4240' '1276a44d783a529d' '0b30aadf406d13cc'\n",
      " '37b82f7e75d4f3b0' '667ae7bc747238c4' 'f995a9bd45d4a867'\n",
      " 'd598cb5ad6f7a09f' '34b423ffb498a1f0' '4fe9b33eae7d1221'\n",
      " 'b463d3bd6064861b' '1e5cb4d0509db554' 'b7d826f55dca45e9'\n",
      " 'f8f8ee516109ee0e' '42e46bc3663a4b5f' 'c5292d78d38e3af6'\n",
      " '0e2242eb8691df96' 'f3e6cc3895998aff' '91d57ea9ae3b0bbd'\n",
      " '665409336d2b20a0' '01eddd9d0dbec2c8' '58f909abfd95e133'\n",
      " '7ee61f505fdfdf5c' '015f7b57645e0238' '62a2a7f86cd9a5b4'\n",
      " '005fd8d279073e1f' '1cfa9ac27a1e93bd' '017453ae077eafd3'\n",
      " '2edb6e240797c549' 'b8afb4f7aef647af' '07d9f31e1e087002'\n",
      " 'fbcefe96d630085b' 'ad72bdcdb2a0c6e0' 'b3eda928fff7bdff'\n",
      " '71f2805dd75bc147' '4dad272dba156a02' '9f8bd34c144e52ee'\n",
      " '206c436ce43a43a3' '1879ace9e02ace61' 'a2e9665d39e55b17'\n",
      " '8173485c72e78ca5' '512a8a4a4c4b4be0' 'a3f971b69fefb699'\n",
      " 'e4f5e6a715f4c8cd' '3df0e3eb1e91170b' '519618c33762168f'\n",
      " '292337d7a1994391' 'e135f138f2cd23d0' '016ea1445db12efb'\n",
      " '134bd2b326f13e19' '0d257f2a39eb5f9d' '7b2a70199c4d7b6d'\n",
      " '140800566259f12f' '5293452c4298bcdd' '0136444405eb084a'\n",
      " '017a5b9d678447ab' '5c95caef9e7b99db' '739a4a10524dd944'\n",
      " '71d65c0e6d94efab' '788d40e08cf34358' '6c686af766d8429c'\n",
      " '3797791ff9c0e4c6' 'feb0fc297a00e5bb' '00b12a4d4b1e946f'\n",
      " 'c28ef1055654ebbb' '413337d3bda70024' 'e52e231315b975c1'\n",
      " '208d28e57bdc12e9' '7a863bb88e5bb33c' '3d533362cdab8107'\n",
      " '1010ecfa7d3a40f8' 'b9026e054cbc35e9' '2d8b55ed7afbee5f'\n",
      " '4f86b7fda96782d9' '006b48995ede9bcc' 'ebdd9f30d3abfc43'\n",
      " 'd1cd39353c51904d' '000c69ad123213a8' '653aabd8c2d3e4d2'\n",
      " '02b28aff7598ac72' '7f7d58e5229c6b6c' '4de072969805ac41'\n",
      " '02a8ed5b791223de' 'd6819fe60643ebc1' '8d65596349ee2e01'\n",
      " '5f1f473ed6455f55' '095a3d388daaeced' '68f3012fe4848e35'\n",
      " '44d207663001f00b' '138aed7440e50891' '7ef79c5ab17d518c'\n",
      " '2b3ee0b4c9b78e5e' '00b50e784d19b32f' '07d9d4ef96886000'\n",
      " 'd049033410e9e81b' '86ba8a27c2ff36d4' 'c4f1830ea4b8caaf'\n",
      " '4a91fb3176a05bd4' 'bdef504b14998834' '018e8da25b391f33'\n",
      " '33de55bc584a42ec' '4024c264fa040571' '5e31b3ff3bbf4a50'\n",
      " '7fb5c5b050f42ca5' '360981d61a4350f3' 'bf16dab6b130c4ca'\n",
      " '58a4c3a0d54e1400' '353916ce76086be6' '6c54120abb49d96c'\n",
      " '5173c9bed1b8dfb5' '70707114a9202b98' '008be613029d4ca5'\n",
      " '26b0db32cfda0432' 'e8ad2641c1cb666c' 'a0399dae44255711'\n",
      " '00c39537733fa112' '01a6dd457c751dd1' '3078869807f9dd36'\n",
      " '07d9e16062c82003' '001907e868d06e24' '8c88f07c8666389d'\n",
      " '17a83a55221b0671' 'a2ba9514c7b23daa' 'cca88be94f32be79'\n",
      " '002c095d059ebf44' '01e3a8037586cf28' '0c2e6999105f8070'\n",
      " '833d51949e9c0bfb' 'dd9ada4135bc9668' '5ef5b7f391e30aff'\n",
      " 'a3d770a00f15bcb1' '4f060a213b552e5f' 'adc95f2911133646'\n",
      " 'e3d31ee0aea2ee7b' '06cb7db38dd5f950' '000258402f2e8794'\n",
      " '43d2418301bf1a49' 'd38e64abf084c996' '004e227739e37844'\n",
      " '349f43f819b079b9' '544762ebf7fda780' '07e9c7d1954fff64'\n",
      " 'af29db2ab5fd16c8' 'adb12aff6d7e1cca' '151b9e91272233d1'\n",
      " '7267ec983477865a' '004f3727016f9b5c' 'aab293671f2aeb1d'\n",
      " '9d5e9d1db8833b1f' '135989ad972a5d9d' '000e96b4e9f8503f'\n",
      " '4de231505cdae11f' 'af8a067a45939bb1' '39aac4dbc7252e68'\n",
      " '018929347840059e' '31cc87eb4d275bb6' '0120615153b21abb'\n",
      " 'd5140ca0d08eadc7' '0149775319466b18' 'a307591cd0413588'\n",
      " '91890dbb74364d63' '101f6a0f4879d8a6' '90407ba247350183'\n",
      " '006178844582e636' '0b37664066a8962a' '3a22597bb94d08bd'\n",
      " '1d9b85f4cd86b224' '01ddb0100b1efd97' '6de84e0ea8c5921e'\n",
      " '00b7a96513e50a3a' '52445186970bafb3' '00c699d656122ebe'\n",
      " '9c38c3bbd6c69084' '9dac82e347b20a53' '41647560efe1db77'\n",
      " 'bf35d6804909118a' '946ccd22e1c9cda1' '0162167217955cb3'\n",
      " '01be2d58751929bc' '895f19a3c08d3d35' 'd1272bba8714df3d'\n",
      " '4bb41f9d86e16416' '014be4b32ac71d2f' '7cb7440bcf83d464'\n",
      " '6eb5e602c8535063' '0088e1b1066e791e' '4939b600461c30a4'\n",
      " 'b004be67b9fd6d8f' '00c4b64e7affea25' '07d9db4b50487003'\n",
      " '00482e135814d8a7' '01bb53b81ba40196' '29c9876cf6330534'\n",
      " '7d0d497711143877' '0058f3b23d489659' '5f7b85a9049af1d0'\n",
      " 'fedbd9fc207aae2a' '7df6f50f15138f28' '0952b6766e962000'\n",
      " '84998fffb02be1b4' '2a7b8eaff804d8ec' '288de3df481163e8'\n",
      " '9a974dfc8efb32a0' '6565298bcadb82a1' '35e0ac04528a0d62'\n",
      " '5028e25dc94f3898' 'b82fa51f6957a1eb' '743df94d8dcb69a6'\n",
      " '3afc29d1fe76301f' '3fe7643d3e014f67' '8943f93b51e3f357'\n",
      " '001f00b31958ca79' '6b55df049258bade' 'bd7c511e9f8bc5da'\n",
      " '77b6118e9dabd504' '010bf7f82c40a09c' '21b6f72f9fdaeb06'\n",
      " '27c45d804c777999' '84e525e4b8f701bd' '6a6d896ba1cb5dc4'\n",
      " '0582c884a3ab504d' 'ea5ccbacf82bdef6' '7068dd9474ab6973'\n",
      " '07d9db07b2887005' '2bc7c264a080898b' '2da4b3d74e7bf5d6'\n",
      " '6a0a3474d8c5113c' 'ad815dfe8c34a012' '3e711c16431907f4'\n",
      " 'e06ed4324b139bf2' '814cfc71b843ff40' '5722ff20ba67083b'\n",
      " 'c023acc638c5fc22' '7645bade208f5ea9' '3b3916ee31cfc9e6'\n",
      " '14ec2fa66c512d73' '4393349f368f67a1' '0010b4cb51ca93d8'\n",
      " '488da0de4c92ac8e' '411f0aa7fce9a8fc' 'cf9828599ad4ad7d'\n",
      " '2c83c04df1251f76' '01b763b150004405' '262a8525f5d25ff9'\n",
      " 'c98d1e86cd9094a7' '7de31e05e99a00f8' '1c67f9d9cbae7f69'\n",
      " 'dc62519fda13b4ec' '6e276f099bcab5b5' '7f061ded71fdc974'\n",
      " '019634185ded88a2']\n"
     ]
    }
   ],
   "source": [
    "# Get unique 'place_id' values\n",
    "tweets_location = filtered_tweets['place_id'].dropna().unique()\n",
    "print(tweets_location)\n"
   ]
  },
  {
   "cell_type": "markdown",
   "id": "4a68bb1c",
   "metadata": {},
   "source": [
    "5.What times of day were the tweets posted at? \n"
   ]
  },
  {
   "cell_type": "code",
   "execution_count": 12,
   "id": "dd14dfb5",
   "metadata": {},
   "outputs": [
    {
     "name": "stdout",
     "output_type": "stream",
     "text": [
      "created_at\n",
      "21:50:46    22\n",
      "18:05:58    20\n",
      "08:50:47    19\n",
      "08:55:46    19\n",
      "21:55:47    17\n",
      "            ..\n",
      "22:23:12     1\n",
      "22:23:22     1\n",
      "22:24:13     1\n",
      "22:25:11     1\n",
      "21:35:18     1\n",
      "Name: count, Length: 47612, dtype: int64\n"
     ]
    }
   ],
   "source": [
    "# Get the times of day the tweets were posted\n",
    "tweets_time_of_day = filtered_tweets['created_at'].dt.time.value_counts()\n",
    "print(tweets_time_of_day)\n"
   ]
  },
  {
   "cell_type": "markdown",
   "id": "72826f0a",
   "metadata": {},
   "source": [
    "6.Which user posted the most tweets containing the term?"
   ]
  },
  {
   "cell_type": "code",
   "execution_count": 13,
   "id": "652c33fa",
   "metadata": {},
   "outputs": [
    {
     "name": "stdout",
     "output_type": "stream",
     "text": [
      "Christo45998808\n"
     ]
    }
   ],
   "source": [
    "# Find the most active user by 'author_handle'\n",
    "most_active_user = filtered_tweets['author_handle'].value_counts().idxmax()\n",
    "print(most_active_user)\n"
   ]
  },
  {
   "cell_type": "code",
   "execution_count": null,
   "id": "c7e9466b",
   "metadata": {},
   "outputs": [],
   "source": []
  }
 ],
 "metadata": {
  "kernelspec": {
   "display_name": "Python 3 (ipykernel)",
   "language": "python",
   "name": "python3"
  },
  "language_info": {
   "codemirror_mode": {
    "name": "ipython",
    "version": 3
   },
   "file_extension": ".py",
   "mimetype": "text/x-python",
   "name": "python",
   "nbconvert_exporter": "python",
   "pygments_lexer": "ipython3",
   "version": "3.11.5"
  }
 },
 "nbformat": 4,
 "nbformat_minor": 5
}
