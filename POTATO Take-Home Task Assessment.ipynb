{
 "cells": [
  {
   "cell_type": "markdown",
   "id": "080ef5ce",
   "metadata": {},
   "source": [
    "# Part 1"
   ]
  },
  {
   "cell_type": "markdown",
   "id": "407401ca",
   "metadata": {},
   "source": [
    "# Ingest the TSV file into a DataFrame"
   ]
  },
  {
   "cell_type": "code",
   "execution_count": 1,
   "id": "f0031fd1",
   "metadata": {},
   "outputs": [],
   "source": [
    "# Import the necessary libraries\n",
    "import pandas as pd"
   ]
  },
  {
   "cell_type": "code",
   "execution_count": 2,
   "id": "3fb6194f",
   "metadata": {},
   "outputs": [],
   "source": [
    "# Load the tsv DATASET\n",
    "df = pd.read_csv('correct_twitter_201904.tsv', sep='\\t')"
   ]
  },
  {
   "cell_type": "code",
   "execution_count": 3,
   "id": "1c34447f",
   "metadata": {},
   "outputs": [
    {
     "data": {
      "text/html": [
       "<div>\n",
       "<style scoped>\n",
       "    .dataframe tbody tr th:only-of-type {\n",
       "        vertical-align: middle;\n",
       "    }\n",
       "\n",
       "    .dataframe tbody tr th {\n",
       "        vertical-align: top;\n",
       "    }\n",
       "\n",
       "    .dataframe thead th {\n",
       "        text-align: right;\n",
       "    }\n",
       "</style>\n",
       "<table border=\"1\" class=\"dataframe\">\n",
       "  <thead>\n",
       "    <tr style=\"text-align: right;\">\n",
       "      <th></th>\n",
       "      <th>id</th>\n",
       "      <th>event</th>\n",
       "      <th>ts1</th>\n",
       "      <th>ts2</th>\n",
       "      <th>from_stream</th>\n",
       "      <th>directly_from_stream</th>\n",
       "      <th>from_search</th>\n",
       "      <th>directly_from_search</th>\n",
       "      <th>from_quote_search</th>\n",
       "      <th>directly_from_quote_search</th>\n",
       "      <th>...</th>\n",
       "      <th>retweeted</th>\n",
       "      <th>retweeted_author_id</th>\n",
       "      <th>retweeted_handle</th>\n",
       "      <th>retweeted_follower_count</th>\n",
       "      <th>mentioned_author_ids</th>\n",
       "      <th>mentioned_handles</th>\n",
       "      <th>hashtags</th>\n",
       "      <th>urls</th>\n",
       "      <th>media_keys</th>\n",
       "      <th>place_id</th>\n",
       "    </tr>\n",
       "  </thead>\n",
       "  <tbody>\n",
       "    <tr>\n",
       "      <th>0</th>\n",
       "      <td>1131594960443199488</td>\n",
       "      <td>britney_201904</td>\n",
       "      <td>2022-02-28 09:34:44.627023-05:00</td>\n",
       "      <td>2022-02-28 09:34:44.627023-05:00</td>\n",
       "      <td>True</td>\n",
       "      <td>True</td>\n",
       "      <td>False</td>\n",
       "      <td>False</td>\n",
       "      <td>False</td>\n",
       "      <td>False</td>\n",
       "      <td>...</td>\n",
       "      <td>1.130918e+18</td>\n",
       "      <td>3.042894e+09</td>\n",
       "      <td>Iesbwian</td>\n",
       "      <td>22760.0</td>\n",
       "      <td>NaN</td>\n",
       "      <td>NaN</td>\n",
       "      <td>NaN</td>\n",
       "      <td>NaN</td>\n",
       "      <td>NaN</td>\n",
       "      <td>NaN</td>\n",
       "    </tr>\n",
       "    <tr>\n",
       "      <th>1</th>\n",
       "      <td>1131594976750653440</td>\n",
       "      <td>britney_201904</td>\n",
       "      <td>2022-02-28 09:34:44.626921-05:00</td>\n",
       "      <td>2022-02-28 09:34:44.626921-05:00</td>\n",
       "      <td>True</td>\n",
       "      <td>True</td>\n",
       "      <td>False</td>\n",
       "      <td>False</td>\n",
       "      <td>False</td>\n",
       "      <td>False</td>\n",
       "      <td>...</td>\n",
       "      <td>NaN</td>\n",
       "      <td>NaN</td>\n",
       "      <td>NaN</td>\n",
       "      <td>NaN</td>\n",
       "      <td>NaN</td>\n",
       "      <td>NaN</td>\n",
       "      <td>NaN</td>\n",
       "      <td>NaN</td>\n",
       "      <td>NaN</td>\n",
       "      <td>NaN</td>\n",
       "    </tr>\n",
       "    <tr>\n",
       "      <th>2</th>\n",
       "      <td>1131589737955942405</td>\n",
       "      <td>britney_201904</td>\n",
       "      <td>2022-02-28 09:34:44.634058-05:00</td>\n",
       "      <td>2022-02-28 09:34:44.634058-05:00</td>\n",
       "      <td>True</td>\n",
       "      <td>True</td>\n",
       "      <td>False</td>\n",
       "      <td>False</td>\n",
       "      <td>False</td>\n",
       "      <td>False</td>\n",
       "      <td>...</td>\n",
       "      <td>NaN</td>\n",
       "      <td>NaN</td>\n",
       "      <td>NaN</td>\n",
       "      <td>NaN</td>\n",
       "      <td>NaN</td>\n",
       "      <td>NaN</td>\n",
       "      <td>NaN</td>\n",
       "      <td>NaN</td>\n",
       "      <td>NaN</td>\n",
       "      <td>NaN</td>\n",
       "    </tr>\n",
       "    <tr>\n",
       "      <th>3</th>\n",
       "      <td>1131594909469892610</td>\n",
       "      <td>britney_201904</td>\n",
       "      <td>2022-02-28 09:34:44.627125-05:00</td>\n",
       "      <td>2022-02-28 09:34:44.627125-05:00</td>\n",
       "      <td>True</td>\n",
       "      <td>True</td>\n",
       "      <td>False</td>\n",
       "      <td>False</td>\n",
       "      <td>False</td>\n",
       "      <td>False</td>\n",
       "      <td>...</td>\n",
       "      <td>1.130918e+18</td>\n",
       "      <td>3.042894e+09</td>\n",
       "      <td>Iesbwian</td>\n",
       "      <td>22760.0</td>\n",
       "      <td>NaN</td>\n",
       "      <td>NaN</td>\n",
       "      <td>NaN</td>\n",
       "      <td>NaN</td>\n",
       "      <td>NaN</td>\n",
       "      <td>NaN</td>\n",
       "    </tr>\n",
       "    <tr>\n",
       "      <th>4</th>\n",
       "      <td>1131594812694511617</td>\n",
       "      <td>britney_201904</td>\n",
       "      <td>2022-02-28 09:34:44.627227-05:00</td>\n",
       "      <td>2022-02-28 09:34:44.627227-05:00</td>\n",
       "      <td>True</td>\n",
       "      <td>True</td>\n",
       "      <td>False</td>\n",
       "      <td>False</td>\n",
       "      <td>False</td>\n",
       "      <td>False</td>\n",
       "      <td>...</td>\n",
       "      <td>1.130918e+18</td>\n",
       "      <td>3.042894e+09</td>\n",
       "      <td>Iesbwian</td>\n",
       "      <td>22760.0</td>\n",
       "      <td>NaN</td>\n",
       "      <td>NaN</td>\n",
       "      <td>NaN</td>\n",
       "      <td>NaN</td>\n",
       "      <td>NaN</td>\n",
       "      <td>NaN</td>\n",
       "    </tr>\n",
       "  </tbody>\n",
       "</table>\n",
       "<p>5 rows × 46 columns</p>\n",
       "</div>"
      ],
      "text/plain": [
       "                    id           event                               ts1  \\\n",
       "0  1131594960443199488  britney_201904  2022-02-28 09:34:44.627023-05:00   \n",
       "1  1131594976750653440  britney_201904  2022-02-28 09:34:44.626921-05:00   \n",
       "2  1131589737955942405  britney_201904  2022-02-28 09:34:44.634058-05:00   \n",
       "3  1131594909469892610  britney_201904  2022-02-28 09:34:44.627125-05:00   \n",
       "4  1131594812694511617  britney_201904  2022-02-28 09:34:44.627227-05:00   \n",
       "\n",
       "                                ts2  from_stream  directly_from_stream  \\\n",
       "0  2022-02-28 09:34:44.627023-05:00         True                  True   \n",
       "1  2022-02-28 09:34:44.626921-05:00         True                  True   \n",
       "2  2022-02-28 09:34:44.634058-05:00         True                  True   \n",
       "3  2022-02-28 09:34:44.627125-05:00         True                  True   \n",
       "4  2022-02-28 09:34:44.627227-05:00         True                  True   \n",
       "\n",
       "   from_search  directly_from_search  from_quote_search  \\\n",
       "0        False                 False              False   \n",
       "1        False                 False              False   \n",
       "2        False                 False              False   \n",
       "3        False                 False              False   \n",
       "4        False                 False              False   \n",
       "\n",
       "   directly_from_quote_search  ...     retweeted  retweeted_author_id  \\\n",
       "0                       False  ...  1.130918e+18         3.042894e+09   \n",
       "1                       False  ...           NaN                  NaN   \n",
       "2                       False  ...           NaN                  NaN   \n",
       "3                       False  ...  1.130918e+18         3.042894e+09   \n",
       "4                       False  ...  1.130918e+18         3.042894e+09   \n",
       "\n",
       "   retweeted_handle  retweeted_follower_count mentioned_author_ids  \\\n",
       "0          Iesbwian                   22760.0                  NaN   \n",
       "1               NaN                       NaN                  NaN   \n",
       "2               NaN                       NaN                  NaN   \n",
       "3          Iesbwian                   22760.0                  NaN   \n",
       "4          Iesbwian                   22760.0                  NaN   \n",
       "\n",
       "  mentioned_handles  hashtags urls media_keys  place_id  \n",
       "0               NaN       NaN  NaN        NaN       NaN  \n",
       "1               NaN       NaN  NaN        NaN       NaN  \n",
       "2               NaN       NaN  NaN        NaN       NaN  \n",
       "3               NaN       NaN  NaN        NaN       NaN  \n",
       "4               NaN       NaN  NaN        NaN       NaN  \n",
       "\n",
       "[5 rows x 46 columns]"
      ]
     },
     "execution_count": 3,
     "metadata": {},
     "output_type": "execute_result"
    }
   ],
   "source": [
    "df.head()"
   ]
  },
  {
   "cell_type": "code",
   "execution_count": 4,
   "id": "195fb616",
   "metadata": {},
   "outputs": [
    {
     "name": "stdout",
     "output_type": "stream",
     "text": [
      "<class 'pandas.core.frame.DataFrame'>\n",
      "RangeIndex: 88037 entries, 0 to 88036\n",
      "Data columns (total 46 columns):\n",
      " #   Column                         Non-Null Count  Dtype  \n",
      "---  ------                         --------------  -----  \n",
      " 0   id                             88037 non-null  int64  \n",
      " 1   event                          88037 non-null  object \n",
      " 2   ts1                            88037 non-null  object \n",
      " 3    ts2                           88037 non-null  object \n",
      " 4   from_stream                    88037 non-null  bool   \n",
      " 5   directly_from_stream           88037 non-null  bool   \n",
      " 6   from_search                    88037 non-null  bool   \n",
      " 7   directly_from_search           88037 non-null  bool   \n",
      " 8   from_quote_search              88037 non-null  bool   \n",
      " 9   directly_from_quote_search     88037 non-null  bool   \n",
      " 10  from_convo_search              88037 non-null  bool   \n",
      " 11  directly_from_convo_search     88037 non-null  bool   \n",
      " 12  from_timeline_search           88037 non-null  bool   \n",
      " 13  directly_from_timeline_search  88037 non-null  bool   \n",
      " 14  text                           88037 non-null  object \n",
      " 15  lang                           88037 non-null  object \n",
      " 16  author_id                      88037 non-null  int64  \n",
      " 17  author_handle                  88037 non-null  object \n",
      " 18  created_at                     88037 non-null  object \n",
      " 19  conversation_id                88037 non-null  int64  \n",
      " 20  possibly_sensitive             88037 non-null  bool   \n",
      " 21  reply_settings                 88037 non-null  object \n",
      " 22  source                         88037 non-null  object \n",
      " 23  author_follower_count          88037 non-null  int64  \n",
      " 24  retweet_count                  88037 non-null  int64  \n",
      " 25  reply_count                    88037 non-null  int64  \n",
      " 26  like_count                     88037 non-null  int64  \n",
      " 27  quote_count                    88037 non-null  int64  \n",
      " 28  replied_to                     6675 non-null   float64\n",
      " 29  replied_to_author_id           3850 non-null   float64\n",
      " 30  replied_to_handle              3684 non-null   object \n",
      " 31  replied_to_follower_count      3850 non-null   float64\n",
      " 32  quoted                         2052 non-null   float64\n",
      " 33  quoted_author_id               1776 non-null   float64\n",
      " 34  quoted_handle                  1629 non-null   object \n",
      " 35  quoted_follower_count          1776 non-null   float64\n",
      " 36  retweeted                      51529 non-null  float64\n",
      " 37  retweeted_author_id            51529 non-null  float64\n",
      " 38  retweeted_handle               51529 non-null  object \n",
      " 39  retweeted_follower_count       51529 non-null  float64\n",
      " 40  mentioned_author_ids           0 non-null      float64\n",
      " 41  mentioned_handles              0 non-null      float64\n",
      " 42  hashtags                       12162 non-null  object \n",
      " 43  urls                           41641 non-null  object \n",
      " 44  media_keys                     16512 non-null  object \n",
      " 45  place_id                       1021 non-null   object \n",
      "dtypes: bool(11), float64(11), int64(8), object(16)\n",
      "memory usage: 24.4+ MB\n"
     ]
    }
   ],
   "source": [
    "df.info()"
   ]
  },
  {
   "cell_type": "markdown",
   "id": "ec85cc69",
   "metadata": {},
   "source": [
    "# Part 2"
   ]
  },
  {
   "cell_type": "markdown",
   "id": "1ac6dc41",
   "metadata": {},
   "source": [
    "# Now the data is ready for querying"
   ]
  },
  {
   "cell_type": "code",
   "execution_count": 5,
   "id": "af4cd38c",
   "metadata": {},
   "outputs": [],
   "source": [
    "# Define the term for filtering\n",
    "term = \"Britney Spears\""
   ]
  },
  {
   "cell_type": "code",
   "execution_count": 6,
   "id": "f1ac6eb8",
   "metadata": {},
   "outputs": [],
   "source": [
    "# Convert 'created_at' column to date time format with UTC timezone\n",
    "df['created_at'] = pd.to_datetime(df['created_at'], utc=True)"
   ]
  },
  {
   "cell_type": "code",
   "execution_count": 7,
   "id": "8a92b4bb",
   "metadata": {},
   "outputs": [],
   "source": [
    "#Filter tweets containing the specified term.\n",
    "    \n",
    "def filter_tweets_by_term(df, term):\n",
    "    return df[df['text'].str.contains(term, case=False, na=False)]"
   ]
  },
  {
   "cell_type": "code",
   "execution_count": 8,
   "id": "86b857ff",
   "metadata": {},
   "outputs": [],
   "source": [
    "#Count how many tweets containing the term were posted each day.\n",
    "\n",
    "def tweets_per_day(df, term):\n",
    "    \n",
    "    filtered_df = filter_tweets_by_term(df, term)\n",
    "    filtered_df.loc[:, 'created_at'] = pd.to_datetime(filtered_df['created_at'], errors='coerce')\n",
    "    return filtered_df.groupby(filtered_df['created_at'].dt.date).size()"
   ]
  },
  {
   "cell_type": "code",
   "execution_count": 9,
   "id": "81a6e784",
   "metadata": {},
   "outputs": [],
   "source": [
    "#Count how many unique users posted tweets containing the term\n",
    "def unique_users(df, term):\n",
    "    filtered_df = filter_tweets_by_term(df, term)\n",
    "    return filtered_df['id'].nunique()"
   ]
  },
  {
   "cell_type": "code",
   "execution_count": 10,
   "id": "ff3a4d9f",
   "metadata": {},
   "outputs": [],
   "source": [
    "#Calculate the average number of likes for tweets containing the term\n",
    "def average_likes(df, term):\n",
    "    filtered_df = filter_tweets_by_term(df, term)\n",
    "    return filtered_df['like_count'].mean()"
   ]
  },
  {
   "cell_type": "code",
   "execution_count": 11,
   "id": "9fcb97c6",
   "metadata": {},
   "outputs": [],
   "source": [
    "#Get the place IDs where tweets containing the term were posted.\n",
    "def place_ids(df, term):\n",
    "    filtered_df = filter_tweets_by_term(df, term)\n",
    "    return filtered_df['place_id'].value_counts()"
   ]
  },
  {
   "cell_type": "code",
   "execution_count": 12,
   "id": "33b5299b",
   "metadata": {},
   "outputs": [],
   "source": [
    "# Determine the number of tweets containing the term posted each hour of the day.\n",
    "def tweets_per_hour(df, term):\n",
    "    filtered_df = filter_tweets_by_term(df, term)\n",
    "    \n",
    "    # Ensure 'created_at' is in datetime format using .loc\n",
    "    filtered_df.loc[:, 'created_at'] = pd.to_datetime(filtered_df['created_at'], errors='coerce')\n",
    "    \n",
    "    # Group by the hour of the day (rounded down) and count the number of tweets\n",
    "    return filtered_df.groupby(filtered_df['created_at'].dt.floor('h')).size()"
   ]
  },
  {
   "cell_type": "code",
   "execution_count": 13,
   "id": "1e7212c4",
   "metadata": {},
   "outputs": [],
   "source": [
    "# Find the user who posted the most tweets containing the term\n",
    "def most_active_user(df, term):\n",
    "    filtered_df = filter_tweets_by_term(df, term)\n",
    "    return filtered_df['author_handle'].value_counts().idxmax()"
   ]
  },
  {
   "cell_type": "markdown",
   "id": "241970ab",
   "metadata": {},
   "source": [
    "1.How many tweets were posted containing the term on each day?"
   ]
  },
  {
   "cell_type": "code",
   "execution_count": 17,
   "id": "3a4b03f0",
   "metadata": {},
   "outputs": [
    {
     "name": "stdout",
     "output_type": "stream",
     "text": [
      "created_at\n",
      "2019-03-01       1\n",
      "2019-03-02       1\n",
      "2019-03-03       3\n",
      "2019-03-04       1\n",
      "2019-03-05       3\n",
      "              ... \n",
      "2019-05-27     862\n",
      "2019-05-28    1500\n",
      "2019-05-29    1749\n",
      "2019-05-30    1730\n",
      "2019-05-31     336\n",
      "Length: 77, dtype: int64\n"
     ]
    }
   ],
   "source": [
    "print(tweets_per_day(df, term))"
   ]
  },
  {
   "cell_type": "markdown",
   "id": "622f5fab",
   "metadata": {},
   "source": [
    " 2.How many unique users posted a tweet containing the term?"
   ]
  },
  {
   "cell_type": "code",
   "execution_count": 16,
   "id": "84c03cfc",
   "metadata": {},
   "outputs": [
    {
     "name": "stdout",
     "output_type": "stream",
     "text": [
      "72849\n"
     ]
    }
   ],
   "source": [
    "print(unique_users(df, term))"
   ]
  },
  {
   "cell_type": "markdown",
   "id": "0e961035",
   "metadata": {},
   "source": [
    "3.How many likes did tweets containing the term get, on average?"
   ]
  },
  {
   "cell_type": "code",
   "execution_count": 18,
   "id": "b416963a",
   "metadata": {},
   "outputs": [
    {
     "name": "stdout",
     "output_type": "stream",
     "text": [
      "6.023088855028895\n"
     ]
    }
   ],
   "source": [
    "print(average_likes(df, term))"
   ]
  },
  {
   "cell_type": "markdown",
   "id": "2a173fba",
   "metadata": {},
   "source": [
    "4.Where (in terms of place IDs) did the tweets come from?"
   ]
  },
  {
   "cell_type": "code",
   "execution_count": 19,
   "id": "375a181d",
   "metadata": {},
   "outputs": [
    {
     "name": "stdout",
     "output_type": "stream",
     "text": [
      "place_id\n",
      "3b77caf94bfc81fe    37\n",
      "1ef1183ed7056dc1    17\n",
      "06b9691f34c91d1c    11\n",
      "1d9a5370a355ab0c    10\n",
      "01a9a39529b27f36    10\n",
      "                    ..\n",
      "5a23da841b5691c7     1\n",
      "d838baf51d1c629d     1\n",
      "46c1b1ab24d7e11a     1\n",
      "5f73d127c7ccf9d9     1\n",
      "019634185ded88a2     1\n",
      "Name: count, Length: 520, dtype: int64\n"
     ]
    }
   ],
   "source": [
    "print(place_ids(df, term))"
   ]
  },
  {
   "cell_type": "markdown",
   "id": "ee7b573a",
   "metadata": {},
   "source": [
    "5.What times of day were the tweets posted at?"
   ]
  },
  {
   "cell_type": "code",
   "execution_count": 20,
   "id": "c20daa3f",
   "metadata": {},
   "outputs": [
    {
     "name": "stdout",
     "output_type": "stream",
     "text": [
      "created_at\n",
      "2019-03-01 17:00:00+00:00      1\n",
      "2019-03-02 02:00:00+00:00      1\n",
      "2019-03-03 06:00:00+00:00      1\n",
      "2019-03-03 19:00:00+00:00      1\n",
      "2019-03-03 20:00:00+00:00      1\n",
      "                            ... \n",
      "2019-05-30 23:00:00+00:00     81\n",
      "2019-05-31 00:00:00+00:00     75\n",
      "2019-05-31 01:00:00+00:00    101\n",
      "2019-05-31 02:00:00+00:00     87\n",
      "2019-05-31 03:00:00+00:00     73\n",
      "Length: 919, dtype: int64\n"
     ]
    }
   ],
   "source": [
    "print(tweets_per_hour(df, term))"
   ]
  },
  {
   "cell_type": "markdown",
   "id": "54e913a7",
   "metadata": {},
   "source": [
    "6.Which user posted the most tweets containing the term?"
   ]
  },
  {
   "cell_type": "code",
   "execution_count": 21,
   "id": "7e5d62d7",
   "metadata": {},
   "outputs": [
    {
     "name": "stdout",
     "output_type": "stream",
     "text": [
      "Christo45998808\n"
     ]
    }
   ],
   "source": [
    "print(most_active_user(df, term))"
   ]
  }
 ],
 "metadata": {
  "kernelspec": {
   "display_name": "Python 3 (ipykernel)",
   "language": "python",
   "name": "python3"
  },
  "language_info": {
   "codemirror_mode": {
    "name": "ipython",
    "version": 3
   },
   "file_extension": ".py",
   "mimetype": "text/x-python",
   "name": "python",
   "nbconvert_exporter": "python",
   "pygments_lexer": "ipython3",
   "version": "3.11.5"
  }
 },
 "nbformat": 4,
 "nbformat_minor": 5
}
